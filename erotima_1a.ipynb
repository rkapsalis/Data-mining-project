{
 "cells": [
  {
   "cell_type": "code",
   "execution_count": 373,
   "metadata": {
    "collapsed": true,
    "pycharm": {
     "name": "#%%\n"
    }
   },
   "outputs": [],
   "source": [
    "import pandas as pd\n",
    "import random\n",
    "import sklearn\n",
    "from sklearn.model_selection import train_test_split\n",
    "from sklearn.metrics import confusion_matrix, f1_score, precision_score, recall_score, accuracy_score, classification_report\n",
    "from sklearn.svm import SVC\n",
    "from sklearn.preprocessing import StandardScaler\n",
    "from sklearn.linear_model import LogisticRegression\n",
    "from sklearn.model_selection import GridSearchCV\n",
    "from random import sample\n",
    "import matplotlib.pyplot as plt\n",
    "import numpy as np\n"
   ]
  },
  {
   "cell_type": "code",
   "execution_count": 374,
   "metadata": {
    "pycharm": {
     "name": "#%%\n"
    }
   },
   "outputs": [
    {
     "name": "stdout",
     "output_type": "stream",
     "text": [
      "count    1599.000000\n",
      "mean        5.636023\n",
      "std         0.807569\n",
      "min         3.000000\n",
      "25%         5.000000\n",
      "50%         6.000000\n",
      "75%         6.000000\n",
      "max         8.000000\n",
      "Name: quality, dtype: float64\n",
      "5    681\n",
      "6    638\n",
      "7    199\n",
      "4     53\n",
      "8     18\n",
      "3     10\n",
      "Name: quality, dtype: int64\n"
     ]
    },
    {
     "data": {
      "text/plain": "<Figure size 432x288 with 1 Axes>",
      "image/png": "[encoded data removed]"
     },
     "metadata": {
      "needs_background": "light"
     },
     "output_type": "display_data"
    }
   ],
   "source": [
    "data = pd.read_csv (r'winequality-red.csv')\n",
    "# print (data.head())\n",
    "# print (data.shape)\n",
    "print(data.quality.describe())\n",
    "print(data.quality.value_counts())\n",
    "def plot_wine_quality_histogram(quality):\n",
    "    unique_vals = data['quality'].sort_values().unique()\n",
    "    plt.xlabel(\"Quality\")\n",
    "    plt.ylabel(\"Count\")\n",
    "    plt.hist(quality.values, bins=np.append(unique_vals, 9), align='left')\n",
    "plot_wine_quality_histogram(data['quality'])"
   ]
  },
  {
   "cell_type": "markdown",
   "metadata": {},
   "source": [
    "Στη συνέχεια χωρίζουμε το dataset σε training-test με αναλογία 75%-25%"
   ]
  },
  {
   "cell_type": "code",
   "execution_count": 375,
   "outputs": [
    {
     "data": {
      "text/plain": "      fixed acidity  volatile acidity  citric acid  residual sugar  chlorides  \\\n582            11.7             0.490         0.49             2.2      0.083   \n626             8.8             0.600         0.29             2.2      0.098   \n1030            7.1             0.590         0.00             2.1      0.091   \n620             8.3             0.540         0.24             3.4      0.076   \n490             9.3             0.775         0.27             2.8      0.078   \n\n      free sulfur dioxide  total sulfur dioxide  density    pH  sulphates  \\\n582                   5.0                  15.0  1.00000  3.19       0.43   \n626                   5.0                  15.0  0.99880  3.36       0.49   \n1030                  9.0                  14.0  0.99488  3.42       0.55   \n620                  16.0                 112.0  0.99760  3.27       0.61   \n490                  24.0                  56.0  0.99840  3.31       0.67   \n\n      alcohol  \n582       9.2  \n626       9.1  \n1030     11.5  \n620       9.4  \n490      10.6  ",
      "text/html": "<div>\n<style scoped>\n    .dataframe tbody tr th:only-of-type {\n        vertical-align: middle;\n    }\n\n    .dataframe tbody tr th {\n        vertical-align: top;\n    }\n\n    .dataframe thead th {\n        text-align: right;\n    }\n</style>\n<table border=\"1\" class=\"dataframe\">\n  <thead>\n    <tr style=\"text-align: right;\">\n      <th></th>\n      <th>fixed acidity</th>\n      <th>volatile acidity</th>\n      <th>citric acid</th>\n      <th>residual sugar</th>\n      <th>chlorides</th>\n      <th>free sulfur dioxide</th>\n      <th>total sulfur dioxide</th>\n      <th>density</th>\n      <th>pH</th>\n      <th>sulphates</th>\n      <th>alcohol</th>\n    </tr>\n  </thead>\n  <tbody>\n    <tr>\n      <th>582</th>\n      <td>11.7</td>\n      <td>0.490</td>\n      <td>0.49</td>\n      <td>2.2</td>\n      <td>0.083</td>\n      <td>5.0</td>\n      <td>15.0</td>\n      <td>1.00000</td>\n      <td>3.19</td>\n      <td>0.43</td>\n      <td>9.2</td>\n    </tr>\n    <tr>\n      <th>626</th>\n      <td>8.8</td>\n      <td>0.600</td>\n      <td>0.29</td>\n      <td>2.2</td>\n      <td>0.098</td>\n      <td>5.0</td>\n      <td>15.0</td>\n      <td>0.99880</td>\n      <td>3.36</td>\n      <td>0.49</td>\n      <td>9.1</td>\n    </tr>\n    <tr>\n      <th>1030</th>\n      <td>7.1</td>\n      <td>0.590</td>\n      <td>0.00</td>\n      <td>2.1</td>\n      <td>0.091</td>\n      <td>9.0</td>\n      <td>14.0</td>\n      <td>0.99488</td>\n      <td>3.42</td>\n      <td>0.55</td>\n      <td>11.5</td>\n    </tr>\n    <tr>\n      <th>620</th>\n      <td>8.3</td>\n      <td>0.540</td>\n      <td>0.24</td>\n      <td>3.4</td>\n      <td>0.076</td>\n      <td>16.0</td>\n      <td>112.0</td>\n      <td>0.99760</td>\n      <td>3.27</td>\n      <td>0.61</td>\n      <td>9.4</td>\n    </tr>\n    <tr>\n      <th>490</th>\n      <td>9.3</td>\n      <td>0.775</td>\n      <td>0.27</td>\n      <td>2.8</td>\n      <td>0.078</td>\n      <td>24.0</td>\n      <td>56.0</td>\n      <td>0.99840</td>\n      <td>3.31</td>\n      <td>0.67</td>\n      <td>10.6</td>\n    </tr>\n  </tbody>\n</table>\n</div>"
     },
     "execution_count": 375,
     "metadata": {},
     "output_type": "execute_result"
    }
   ],
   "source": [
    "y = data.quality\n",
    "x = data.drop('quality', axis=1)\n",
    "X_train, X_test, y_train, y_test = train_test_split(x, y, test_size=0.25, random_state=42)\n",
    "sth = X_train.head()\n",
    "sth1 = X_test.head()\n",
    "# print()\n",
    "# print(X_train.shape)\n",
    "#\n",
    "# print()\n",
    "# print(X_test.shape)\n",
    "sth"
   ],
   "metadata": {
    "collapsed": false,
    "pycharm": {
     "name": "#%%\n"
    }
   }
  },
  {
   "cell_type": "code",
   "execution_count": 376,
   "outputs": [
    {
     "data": {
      "text/plain": "      fixed acidity  volatile acidity  citric acid  residual sugar  chlorides  \\\n803             7.7              0.56         0.08            2.50      0.114   \n124             7.8              0.50         0.17            1.60      0.082   \n350            10.7              0.67         0.22            2.70      0.107   \n682             8.5              0.46         0.31            2.25      0.078   \n1326            6.7              0.46         0.24            1.70      0.077   \n\n      free sulfur dioxide  total sulfur dioxide  density    pH  sulphates  \\\n803                  14.0                  46.0   0.9971  3.24       0.66   \n124                  21.0                 102.0   0.9960  3.39       0.48   \n350                  17.0                  34.0   1.0004  3.28       0.98   \n682                  32.0                  58.0   0.9980  3.33       0.54   \n1326                 18.0                  34.0   0.9948  3.39       0.60   \n\n      alcohol  \n803       9.6  \n124       9.5  \n350       9.9  \n682       9.8  \n1326     10.6  ",
      "text/html": "<div>\n<style scoped>\n    .dataframe tbody tr th:only-of-type {\n        vertical-align: middle;\n    }\n\n    .dataframe tbody tr th {\n        vertical-align: top;\n    }\n\n    .dataframe thead th {\n        text-align: right;\n    }\n</style>\n<table border=\"1\" class=\"dataframe\">\n  <thead>\n    <tr style=\"text-align: right;\">\n      <th></th>\n      <th>fixed acidity</th>\n      <th>volatile acidity</th>\n      <th>citric acid</th>\n      <th>residual sugar</th>\n      <th>chlorides</th>\n      <th>free sulfur dioxide</th>\n      <th>total sulfur dioxide</th>\n      <th>density</th>\n      <th>pH</th>\n      <th>sulphates</th>\n      <th>alcohol</th>\n    </tr>\n  </thead>\n  <tbody>\n    <tr>\n      <th>803</th>\n      <td>7.7</td>\n      <td>0.56</td>\n      <td>0.08</td>\n      <td>2.50</td>\n      <td>0.114</td>\n      <td>14.0</td>\n      <td>46.0</td>\n      <td>0.9971</td>\n      <td>3.24</td>\n      <td>0.66</td>\n      <td>9.6</td>\n    </tr>\n    <tr>\n      <th>124</th>\n      <td>7.8</td>\n      <td>0.50</td>\n      <td>0.17</td>\n      <td>1.60</td>\n      <td>0.082</td>\n      <td>21.0</td>\n      <td>102.0</td>\n      <td>0.9960</td>\n      <td>3.39</td>\n      <td>0.48</td>\n      <td>9.5</td>\n    </tr>\n    <tr>\n      <th>350</th>\n      <td>10.7</td>\n      <td>0.67</td>\n      <td>0.22</td>\n      <td>2.70</td>\n      <td>0.107</td>\n      <td>17.0</td>\n      <td>34.0</td>\n      <td>1.0004</td>\n      <td>3.28</td>\n      <td>0.98</td>\n      <td>9.9</td>\n    </tr>\n    <tr>\n      <th>682</th>\n      <td>8.5</td>\n      <td>0.46</td>\n      <td>0.31</td>\n      <td>2.25</td>\n      <td>0.078</td>\n      <td>32.0</td>\n      <td>58.0</td>\n      <td>0.9980</td>\n      <td>3.33</td>\n      <td>0.54</td>\n      <td>9.8</td>\n    </tr>\n    <tr>\n      <th>1326</th>\n      <td>6.7</td>\n      <td>0.46</td>\n      <td>0.24</td>\n      <td>1.70</td>\n      <td>0.077</td>\n      <td>18.0</td>\n      <td>34.0</td>\n      <td>0.9948</td>\n      <td>3.39</td>\n      <td>0.60</td>\n      <td>10.6</td>\n    </tr>\n  </tbody>\n</table>\n</div>"
     },
     "execution_count": 376,
     "metadata": {},
     "output_type": "execute_result"
    }
   ],
   "source": [
    "sth1"
   ],
   "metadata": {
    "collapsed": false,
    "pycharm": {
     "name": "#%%\n"
    }
   }
  },
  {
   "cell_type": "markdown",
   "source": [
    "εφαρμόζουμε τον αλγόριθμο SVM"
   ],
   "metadata": {
    "collapsed": false
   }
  },
  {
   "cell_type": "code",
   "execution_count": 377,
   "outputs": [],
   "source": [
    "sc = StandardScaler()\n",
    "X_train = sc.fit_transform(X_train)\n",
    "X_test = sc.transform(X_test)\n",
    "\n",
    "#features_raw = data.drop(['quality'], axis = 1)\n",
    "#classifier = SVC(C=1, kernel='poly', degree=11, gamma=0.1, class_weight='balanced', random_state=0)\n",
    "classifier = SVC(random_state=5, kernel=\"rbf\", C=1000, gamma=0.01)\n",
    "trained_model = classifier.fit(X_train, y_train)\n",
    "y_pred = classifier.predict(X_test)\n"
   ],
   "metadata": {
    "collapsed": false,
    "pycharm": {
     "name": "#%%\n"
    }
   }
  },
  {
   "cell_type": "markdown",
   "source": [
    "Confusion matrix"
   ],
   "metadata": {
    "collapsed": false,
    "pycharm": {
     "name": "#%% md\n"
    }
   }
  },
  {
   "cell_type": "code",
   "execution_count": 378,
   "outputs": [
    {
     "data": {
      "text/plain": "array([[  0,   0,   1,   0,   0,   0],\n       [  1,   0,   9,   3,   0,   0],\n       [  1,   1, 121,  38,   3,   0],\n       [  0,   6,  46, 106,  10,   1],\n       [  0,   1,   1,  24,  21,   1],\n       [  0,   0,   0,   2,   3,   0]], dtype=int64)"
     },
     "execution_count": 378,
     "metadata": {},
     "output_type": "execute_result"
    }
   ],
   "source": [
    "cm_SVM = confusion_matrix(y_test, y_pred)\n",
    "cm_SVM"
   ],
   "metadata": {
    "collapsed": false,
    "pycharm": {
     "name": "#%%\n"
    }
   }
  },
  {
   "cell_type": "markdown",
   "source": [
    "Precision score"
   ],
   "metadata": {
    "collapsed": false
   }
  },
  {
   "cell_type": "code",
   "execution_count": 379,
   "outputs": [
    {
     "data": {
      "text/plain": "0.6056888056465897"
     },
     "execution_count": 379,
     "metadata": {},
     "output_type": "execute_result"
    }
   ],
   "source": [
    "precision = precision_score(y_test, y_pred, average=\"weighted\")\n",
    "precision"
   ],
   "metadata": {
    "collapsed": false,
    "pycharm": {
     "name": "#%%\n"
    }
   }
  },
  {
   "cell_type": "markdown",
   "source": [
    "Recall score"
   ],
   "metadata": {
    "collapsed": false
   }
  },
  {
   "cell_type": "code",
   "execution_count": 380,
   "outputs": [
    {
     "data": {
      "text/plain": "0.62"
     },
     "execution_count": 380,
     "metadata": {},
     "output_type": "execute_result"
    }
   ],
   "source": [
    "recall = recall_score(y_test, y_pred, average=\"weighted\")\n",
    "recall\n"
   ],
   "metadata": {
    "collapsed": false,
    "pycharm": {
     "name": "#%%\n"
    }
   }
  },
  {
   "cell_type": "markdown",
   "source": [
    "Accuracy score"
   ],
   "metadata": {
    "collapsed": false
   }
  },
  {
   "cell_type": "code",
   "execution_count": 381,
   "outputs": [
    {
     "data": {
      "text/plain": "62.0"
     },
     "execution_count": 381,
     "metadata": {},
     "output_type": "execute_result"
    }
   ],
   "source": [
    "accuracy = accuracy_score(y_test, y_pred)*100\n",
    "accuracy\n"
   ],
   "metadata": {
    "collapsed": false,
    "pycharm": {
     "name": "#%%\n"
    }
   }
  },
  {
   "cell_type": "markdown",
   "source": [
    "Αφαιρούμε το 33% της στήλης PH\n"
   ],
   "metadata": {
    "collapsed": false,
    "pycharm": {
     "name": "#%% md\n"
    }
   }
  },
  {
   "cell_type": "code",
   "execution_count": 382,
   "outputs": [],
   "source": [
    "erased = len(X_train) * 33 // 100\n",
    "not_erased = len(X_train) - erased\n",
    "nancol = random.sample(range(len(X_train)), erased) #παίρνω τυχαίο δείγμα του 33%\n",
    "\n",
    "median = 0\n",
    "for index in range(len(X_train)):\n",
    "    if index not in nancol:\n",
    "        median += X_train[index][8]  #αφαιρώ το 33% της στηλης ph\n"
   ],
   "metadata": {
    "collapsed": false,
    "pycharm": {
     "name": "#%%\n"
    }
   }
  },
  {
   "cell_type": "markdown",
   "source": [
    "1. Αφαιρούμε την στήλη PH"
   ],
   "metadata": {
    "collapsed": false,
    "pycharm": {
     "name": "#%% md\n"
    }
   }
  },
  {
   "cell_type": "code",
   "execution_count": 383,
   "outputs": [
    {
     "name": "stdout",
     "output_type": "stream",
     "text": [
      "              precision    recall  f1-score   support\n",
      "\n",
      "           3       0.00      0.00      0.00         3\n",
      "           4       0.00      0.00      0.00        13\n",
      "           5       0.37      0.50      0.43       156\n",
      "           6       0.45      0.33      0.38       178\n",
      "           7       0.12      0.11      0.12        45\n",
      "           8       0.00      0.00      0.00         5\n",
      "\n",
      "    accuracy                           0.35       400\n",
      "   macro avg       0.16      0.16      0.15       400\n",
      "weighted avg       0.36      0.35      0.35       400\n",
      "\n"
     ]
    }
   ],
   "source": [
    "no_ph = x.drop('pH', axis=1)\n",
    "x1_train, x1_test, y1_train, y1_test = sklearn.model_selection.train_test_split(no_ph, y, test_size=0.25)\n",
    "classifier = SVC(random_state=5, kernel=\"rbf\", C=1000, gamma=0.01)\n",
    "trained_model = classifier.fit(x1_train, y_train)\n",
    "y1_pred = classifier.predict(x1_test)\n",
    "print(sklearn.metrics.classification_report(y1_test, y1_pred))"
   ],
   "metadata": {
    "collapsed": false,
    "pycharm": {
     "name": "#%%\n"
    }
   }
  },
  {
   "cell_type": "markdown",
   "source": [
    "2. Συμπληρώνουμε τις τιμές με τον μέσο όρο των στοιχείων της στήλης"
   ],
   "metadata": {
    "collapsed": false
   }
  },
  {
   "cell_type": "code",
   "execution_count": 384,
   "outputs": [
    {
     "name": "stdout",
     "output_type": "stream",
     "text": [
      "              precision    recall  f1-score   support\n",
      "\n",
      "           3       0.00      0.00      0.00         1\n",
      "           4       0.11      0.08      0.09        13\n",
      "           5       0.66      0.73      0.69       164\n",
      "           6       0.63      0.63      0.63       169\n",
      "           7       0.54      0.42      0.47        48\n",
      "           8       0.00      0.00      0.00         5\n",
      "\n",
      "    accuracy                           0.62       400\n",
      "   macro avg       0.32      0.31      0.31       400\n",
      "weighted avg       0.61      0.62      0.61       400\n",
      "\n"
     ]
    }
   ],
   "source": [
    "X_median = X_train\n",
    "median = median / not_erased\n",
    "\n",
    "for index in nancol:\n",
    "    X_train[index][8 ] = median\n",
    "\n",
    "classifier = SVC(random_state=5, kernel=\"rbf\", C=1000, gamma=0.01)\n",
    "trained_model = classifier.fit(X_train, y_train)\n",
    "y_pred = classifier.predict(X_test)\n",
    "print(sklearn.metrics.classification_report(y_test, y_pred))"
   ],
   "metadata": {
    "collapsed": false,
    "pycharm": {
     "name": "#%%\n"
    }
   }
  },
  {
   "cell_type": "markdown",
   "source": [
    "3. Συμπληρώνουμε τις τιμές χρησιμοποιώντας Logistic Regression"
   ],
   "metadata": {
    "collapsed": false
   }
  },
  {
   "cell_type": "code",
   "execution_count": 385,
   "outputs": [
    {
     "ename": "NameError",
     "evalue": "name 'j' is not defined",
     "output_type": "error",
     "traceback": [
      "\u001B[1;31m---------------------------------------------------------------------------\u001B[0m",
      "\u001B[1;31mNameError\u001B[0m                                 Traceback (most recent call last)",
      "\u001B[1;32m<ipython-input-385-5e23350db76f>\u001B[0m in \u001B[0;36m<module>\u001B[1;34m\u001B[0m\n\u001B[0;32m      1\u001B[0m \u001B[0mX_ph\u001B[0m \u001B[1;33m=\u001B[0m \u001B[0mdata\u001B[0m\u001B[1;33m[\u001B[0m\u001B[1;34m'pH'\u001B[0m\u001B[1;33m]\u001B[0m \u001B[1;31m#η στήλη με τα missing values\u001B[0m\u001B[1;33m\u001B[0m\u001B[1;33m\u001B[0m\u001B[0m\n\u001B[1;32m----> 2\u001B[1;33m \u001B[0mX_noph\u001B[0m\u001B[1;33m,\u001B[0m \u001B[0my_noph\u001B[0m\u001B[1;33m,\u001B[0m \u001B[0mX_testph\u001B[0m\u001B[1;33m,\u001B[0m \u001B[0mY_testph\u001B[0m \u001B[1;33m=\u001B[0m \u001B[0mtrain_test_split\u001B[0m\u001B[1;33m(\u001B[0m \u001B[0mj\u001B[0m\u001B[1;33m,\u001B[0m\u001B[0mz\u001B[0m\u001B[1;33m,\u001B[0m \u001B[0mtest_size\u001B[0m\u001B[1;33m=\u001B[0m\u001B[1;36m0.25\u001B[0m\u001B[1;33m,\u001B[0m \u001B[0mrandom_state\u001B[0m\u001B[1;33m=\u001B[0m\u001B[1;36m42\u001B[0m\u001B[1;33m)\u001B[0m\u001B[1;33m\u001B[0m\u001B[1;33m\u001B[0m\u001B[0m\n\u001B[0m\u001B[0;32m      3\u001B[0m \u001B[0mlogistic_regression\u001B[0m \u001B[1;33m=\u001B[0m \u001B[0mLogisticRegression\u001B[0m\u001B[1;33m(\u001B[0m\u001B[1;33m)\u001B[0m\u001B[1;33m\u001B[0m\u001B[1;33m\u001B[0m\u001B[0m\n\u001B[0;32m      4\u001B[0m \u001B[0mlogistic_regression\u001B[0m\u001B[1;33m.\u001B[0m\u001B[0mfit\u001B[0m\u001B[1;33m(\u001B[0m\u001B[0mX_noph\u001B[0m\u001B[1;33m,\u001B[0m \u001B[0my_noph\u001B[0m\u001B[1;33m)\u001B[0m\u001B[1;33m\u001B[0m\u001B[1;33m\u001B[0m\u001B[0m\n\u001B[0;32m      5\u001B[0m \u001B[0my_pred\u001B[0m \u001B[1;33m=\u001B[0m \u001B[0mlogistic_regression\u001B[0m\u001B[1;33m.\u001B[0m\u001B[0mpredict\u001B[0m\u001B[1;33m(\u001B[0m\u001B[0mX_testph\u001B[0m\u001B[1;33m)\u001B[0m\u001B[1;33m\u001B[0m\u001B[1;33m\u001B[0m\u001B[0m\n",
      "\u001B[1;31mNameError\u001B[0m: name 'j' is not defined"
     ]
    }
   ],
   "source": [
    "X_ph = data['pH'] #η στήλη με τα missing values\n",
    "X_noph, y_noph, X_testph, Y_testph = train_test_split( j,z, test_size=0.25, random_state=42)\n",
    "logistic_regression = LogisticRegression()\n",
    "logistic_regression.fit(X_noph, y_noph)\n",
    "y_pred = logistic_regression.predict(X_testph)\n",
    "\n",
    "classifier = SVC(random_state=5, kernel=\"rbf\", C=1000, gamma=0.01)\n",
    "trained_model = classifier.fit(X_train, y_train)\n",
    "y_pred = classifier.predict(X_test)\n",
    "sklearn.metrics.classification_report(y_test, y_pred)"
   ],
   "metadata": {
    "collapsed": false,
    "pycharm": {
     "name": "#%%\n"
    }
   }
  },
  {
   "cell_type": "markdown",
   "source": [
    "4.\tΕφαρμόζουμε K-means και συμπληρώνουμε τις τιμές που λείπουν με τον αριθμητικό μέσο όρο της συστάδας στην οποία ανήκει το δείγμα\n",
    "\n"
   ],
   "metadata": {
    "collapsed": false
   }
  }
 ],
 "metadata": {
  "kernelspec": {
   "display_name": "Python 3",
   "language": "python",
   "name": "python3"
  },
  "language_info": {
   "codemirror_mode": {
    "name": "ipython",
    "version": 3
   },
   "file_extension": ".py",
   "mimetype": "text/x-python",
   "name": "python",
   "nbconvert_exporter": "python",
   "pygments_lexer": "ipython3",
   "version": "3.7.1"
  }
 },
 "nbformat": 4,
 "nbformat_minor": 1
}