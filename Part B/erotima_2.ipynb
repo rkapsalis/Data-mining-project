{
 "cells": [
  {
   "cell_type": "code",
   "execution_count": 567,
   "metadata": {
    "collapsed": true
   },
   "outputs": [
    {
     "name": "stderr",
     "output_type": "stream",
     "text": [
      "[nltk_data] Downloading package punkt to\n",
      "[nltk_data]     C:\\Users\\Ρωμανός\\AppData\\Roaming\\nltk_data...\n",
      "[nltk_data]   Package punkt is already up-to-date!\n"
     ]
    }
   ],
   "source": [
    "import pandas as pd\n",
    "import nltk\n",
    "nltk.download('punkt')\n",
    "from nltk.tokenize import word_tokenize\n",
    "from nltk.stem import PorterStemmer\n",
    "from nltk.corpus import stopwords\n",
    "stop = stopwords.words('english')\n",
    "from nltk.tokenize import RegexpTokenizer\n",
    "from sklearn.feature_extraction.text import TfidfVectorizer\n",
    "import numpy as np"
   ]
  },
  {
   "cell_type": "code",
   "execution_count": 568,
   "outputs": [
    {
     "data": {
      "text/plain": "                                                                                                                                                  text  \\\n0  Entire Facebook Staff Laughs As Man Tightens Privacy Settings                                                                                         \n1  Muslim Woman Denied Soda Can for Fear She Could Use It as a Weapon                                                                                    \n2  Bold Move: Hulu Has Announced That They’re Gonna Go Ahead And Reboot ‘Shrill’ While It’s Still On Since You Idiots Will Watch Anything                \n3  Despondent Jeff Bezos Realizes He’ll Have To Work For 9 Seconds To Earn Back Money He Lost In Divorce                                                 \n4  For men looking for great single women, online dating offers a viable solution to the otherwise frustrating task of finding long-term love. A0rNsK5   \n5  Kim Jong-Un Wonders If Nuclear Threats Distracting Him From Real Goal Of Starving Citizenry                                                           \n6  Omaha dad finds pot brownies, eats 4 of them, says mean things to cat                                                                                 \n7  Pokémon Go player stabbed, keeps playing                                                                                                              \n8  Job Placement Service Helps Students Who Fail Out Of Dad’s Alma Mater Find Work At Dad’s Company                                                      \n9  Idiot Zoo Animal With Zero Predators Still Protective Of Young                                                                                        \n\n   label  \n0  1      \n1  0      \n2  1      \n3  1      \n4  1      \n5  1      \n6  0      \n7  0      \n8  1      \n9  1      ",
      "text/html": "<div>\n<style scoped>\n    .dataframe tbody tr th:only-of-type {\n        vertical-align: middle;\n    }\n\n    .dataframe tbody tr th {\n        vertical-align: top;\n    }\n\n    .dataframe thead th {\n        text-align: right;\n    }\n</style>\n<table border=\"1\" class=\"dataframe\">\n  <thead>\n    <tr style=\"text-align: right;\">\n      <th></th>\n      <th>text</th>\n      <th>label</th>\n    </tr>\n  </thead>\n  <tbody>\n    <tr>\n      <th>0</th>\n      <td>Entire Facebook Staff Laughs As Man Tightens Privacy Settings</td>\n      <td>1</td>\n    </tr>\n    <tr>\n      <th>1</th>\n      <td>Muslim Woman Denied Soda Can for Fear She Could Use It as a Weapon</td>\n      <td>0</td>\n    </tr>\n    <tr>\n      <th>2</th>\n      <td>Bold Move: Hulu Has Announced That They’re Gonna Go Ahead And Reboot ‘Shrill’ While It’s Still On Since You Idiots Will Watch Anything</td>\n      <td>1</td>\n    </tr>\n    <tr>\n      <th>3</th>\n      <td>Despondent Jeff Bezos Realizes He’ll Have To Work For 9 Seconds To Earn Back Money He Lost In Divorce</td>\n      <td>1</td>\n    </tr>\n    <tr>\n      <th>4</th>\n      <td>For men looking for great single women, online dating offers a viable solution to the otherwise frustrating task of finding long-term love. A0rNsK5</td>\n      <td>1</td>\n    </tr>\n    <tr>\n      <th>5</th>\n      <td>Kim Jong-Un Wonders If Nuclear Threats Distracting Him From Real Goal Of Starving Citizenry</td>\n      <td>1</td>\n    </tr>\n    <tr>\n      <th>6</th>\n      <td>Omaha dad finds pot brownies, eats 4 of them, says mean things to cat</td>\n      <td>0</td>\n    </tr>\n    <tr>\n      <th>7</th>\n      <td>Pokémon Go player stabbed, keeps playing</td>\n      <td>0</td>\n    </tr>\n    <tr>\n      <th>8</th>\n      <td>Job Placement Service Helps Students Who Fail Out Of Dad’s Alma Mater Find Work At Dad’s Company</td>\n      <td>1</td>\n    </tr>\n    <tr>\n      <th>9</th>\n      <td>Idiot Zoo Animal With Zero Predators Still Protective Of Young</td>\n      <td>1</td>\n    </tr>\n  </tbody>\n</table>\n</div>"
     },
     "execution_count": 568,
     "metadata": {},
     "output_type": "execute_result"
    }
   ],
   "source": [
    "df = pd.read_csv(r'onion-or-not.csv',encoding='utf8')\n",
    "pd.options.display.width = None\n",
    "\n",
    "df.head(10)"
   ],
   "metadata": {
    "collapsed": false,
    "pycharm": {
     "name": "#%%\n"
    }
   }
  },
  {
   "cell_type": "markdown",
   "source": [
    "Χωρίζουμε τους τίτλους σε λέξεις, δημιουργώντας ένα διάνυσμα λέξεων\n"
   ],
   "metadata": {
    "collapsed": false
   }
  },
  {
   "cell_type": "code",
   "execution_count": 569,
   "outputs": [
    {
     "data": {
      "text/plain": "                                                                                                                                                  text  \\\n0  Entire Facebook Staff Laughs As Man Tightens Privacy Settings                                                                                         \n1  Muslim Woman Denied Soda Can for Fear She Could Use It as a Weapon                                                                                    \n2  Bold Move: Hulu Has Announced That They’re Gonna Go Ahead And Reboot ‘Shrill’ While It’s Still On Since You Idiots Will Watch Anything                \n3  Despondent Jeff Bezos Realizes He’ll Have To Work For 9 Seconds To Earn Back Money He Lost In Divorce                                                 \n4  For men looking for great single women, online dating offers a viable solution to the otherwise frustrating task of finding long-term love. A0rNsK5   \n5  Kim Jong-Un Wonders If Nuclear Threats Distracting Him From Real Goal Of Starving Citizenry                                                           \n6  Omaha dad finds pot brownies, eats 4 of them, says mean things to cat                                                                                 \n7  Pokémon Go player stabbed, keeps playing                                                                                                              \n8  Job Placement Service Helps Students Who Fail Out Of Dad’s Alma Mater Find Work At Dad’s Company                                                      \n9  Idiot Zoo Animal With Zero Predators Still Protective Of Young                                                                                        \n\n   label  \\\n0  1       \n1  0       \n2  1       \n3  1       \n4  1       \n5  1       \n6  0       \n7  0       \n8  1       \n9  1       \n\n                                                                                                                                                                           tokens1  \\\n0  [Entire, Facebook, Staff, Laughs, As, Man, Tightens, Privacy, Settings]                                                                                                           \n1  [Muslim, Woman, Denied, Soda, Can, for, Fear, She, Could, Use, It, as, a, Weapon]                                                                                                 \n2  [Bold, Move, :, Hulu, Has, Announced, That, They, ’, re, Gon, na, Go, Ahead, And, Reboot, ‘, Shrill, ’, While, It, ’, s, Still, On, Since, You, Idiots, Will, Watch, Anything]    \n3  [Despondent, Jeff, Bezos, Realizes, He, ’, ll, Have, To, Work, For, 9, Seconds, To, Earn, Back, Money, He, Lost, In, Divorce]                                                     \n4  [For, men, looking, for, great, single, women, ,, online, dating, offers, a, viable, solution, to, the, otherwise, frustrating, task, of, finding, long-term, love, ., A0rNsK5]   \n5  [Kim, Jong-Un, Wonders, If, Nuclear, Threats, Distracting, Him, From, Real, Goal, Of, Starving, Citizenry]                                                                        \n6  [Omaha, dad, finds, pot, brownies, ,, eats, 4, of, them, ,, says, mean, things, to, cat]                                                                                          \n7  [Pokémon, Go, player, stabbed, ,, keeps, playing]                                                                                                                                 \n8  [Job, Placement, Service, Helps, Students, Who, Fail, Out, Of, Dad, ’, s, Alma, Mater, Find, Work, At, Dad, ’, s, Company]                                                        \n9  [Idiot, Zoo, Animal, With, Zero, Predators, Still, Protective, Of, Young]                                                                                                         \n\n                                                                                                                                                                       tokens  \n0  [Entire, Facebook, Staff, Laughs, As, Man, Tightens, Privacy, Settings]                                                                                                     \n1  [Muslim, Woman, Denied, Soda, Can, for, Fear, She, Could, Use, It, as, a, Weapon]                                                                                           \n2  [Bold, Move, Hulu, Has, Announced, That, They, re, Gonna, Go, Ahead, And, Reboot, Shrill, While, It, s, Still, On, Since, You, Idiots, Will, Watch, Anything]               \n3  [Despondent, Jeff, Bezos, Realizes, He, ll, Have, To, Work, For, 9, Seconds, To, Earn, Back, Money, He, Lost, In, Divorce]                                                  \n4  [For, men, looking, for, great, single, women, online, dating, offers, a, viable, solution, to, the, otherwise, frustrating, task, of, finding, long, term, love, A0rNsK5]  \n5  [Kim, Jong, Un, Wonders, If, Nuclear, Threats, Distracting, Him, From, Real, Goal, Of, Starving, Citizenry]                                                                 \n6  [Omaha, dad, finds, pot, brownies, eats, 4, of, them, says, mean, things, to, cat]                                                                                          \n7  [Pokémon, Go, player, stabbed, keeps, playing]                                                                                                                              \n8  [Job, Placement, Service, Helps, Students, Who, Fail, Out, Of, Dad, s, Alma, Mater, Find, Work, At, Dad, s, Company]                                                        \n9  [Idiot, Zoo, Animal, With, Zero, Predators, Still, Protective, Of, Young]                                                                                                   ",
      "text/html": "<div>\n<style scoped>\n    .dataframe tbody tr th:only-of-type {\n        vertical-align: middle;\n    }\n\n    .dataframe tbody tr th {\n        vertical-align: top;\n    }\n\n    .dataframe thead th {\n        text-align: right;\n    }\n</style>\n<table border=\"1\" class=\"dataframe\">\n  <thead>\n    <tr style=\"text-align: right;\">\n      <th></th>\n      <th>text</th>\n      <th>label</th>\n      <th>tokens1</th>\n      <th>tokens</th>\n    </tr>\n  </thead>\n  <tbody>\n    <tr>\n      <th>0</th>\n      <td>Entire Facebook Staff Laughs As Man Tightens Privacy Settings</td>\n      <td>1</td>\n      <td>[Entire, Facebook, Staff, Laughs, As, Man, Tightens, Privacy, Settings]</td>\n      <td>[Entire, Facebook, Staff, Laughs, As, Man, Tightens, Privacy, Settings]</td>\n    </tr>\n    <tr>\n      <th>1</th>\n      <td>Muslim Woman Denied Soda Can for Fear She Could Use It as a Weapon</td>\n      <td>0</td>\n      <td>[Muslim, Woman, Denied, Soda, Can, for, Fear, She, Could, Use, It, as, a, Weapon]</td>\n      <td>[Muslim, Woman, Denied, Soda, Can, for, Fear, She, Could, Use, It, as, a, Weapon]</td>\n    </tr>\n    <tr>\n      <th>2</th>\n      <td>Bold Move: Hulu Has Announced That They’re Gonna Go Ahead And Reboot ‘Shrill’ While It’s Still On Since You Idiots Will Watch Anything</td>\n      <td>1</td>\n      <td>[Bold, Move, :, Hulu, Has, Announced, That, They, ’, re, Gon, na, Go, Ahead, And, Reboot, ‘, Shrill, ’, While, It, ’, s, Still, On, Since, You, Idiots, Will, Watch, Anything]</td>\n      <td>[Bold, Move, Hulu, Has, Announced, That, They, re, Gonna, Go, Ahead, And, Reboot, Shrill, While, It, s, Still, On, Since, You, Idiots, Will, Watch, Anything]</td>\n    </tr>\n    <tr>\n      <th>3</th>\n      <td>Despondent Jeff Bezos Realizes He’ll Have To Work For 9 Seconds To Earn Back Money He Lost In Divorce</td>\n      <td>1</td>\n      <td>[Despondent, Jeff, Bezos, Realizes, He, ’, ll, Have, To, Work, For, 9, Seconds, To, Earn, Back, Money, He, Lost, In, Divorce]</td>\n      <td>[Despondent, Jeff, Bezos, Realizes, He, ll, Have, To, Work, For, 9, Seconds, To, Earn, Back, Money, He, Lost, In, Divorce]</td>\n    </tr>\n    <tr>\n      <th>4</th>\n      <td>For men looking for great single women, online dating offers a viable solution to the otherwise frustrating task of finding long-term love. A0rNsK5</td>\n      <td>1</td>\n      <td>[For, men, looking, for, great, single, women, ,, online, dating, offers, a, viable, solution, to, the, otherwise, frustrating, task, of, finding, long-term, love, ., A0rNsK5]</td>\n      <td>[For, men, looking, for, great, single, women, online, dating, offers, a, viable, solution, to, the, otherwise, frustrating, task, of, finding, long, term, love, A0rNsK5]</td>\n    </tr>\n    <tr>\n      <th>5</th>\n      <td>Kim Jong-Un Wonders If Nuclear Threats Distracting Him From Real Goal Of Starving Citizenry</td>\n      <td>1</td>\n      <td>[Kim, Jong-Un, Wonders, If, Nuclear, Threats, Distracting, Him, From, Real, Goal, Of, Starving, Citizenry]</td>\n      <td>[Kim, Jong, Un, Wonders, If, Nuclear, Threats, Distracting, Him, From, Real, Goal, Of, Starving, Citizenry]</td>\n    </tr>\n    <tr>\n      <th>6</th>\n      <td>Omaha dad finds pot brownies, eats 4 of them, says mean things to cat</td>\n      <td>0</td>\n      <td>[Omaha, dad, finds, pot, brownies, ,, eats, 4, of, them, ,, says, mean, things, to, cat]</td>\n      <td>[Omaha, dad, finds, pot, brownies, eats, 4, of, them, says, mean, things, to, cat]</td>\n    </tr>\n    <tr>\n      <th>7</th>\n      <td>Pokémon Go player stabbed, keeps playing</td>\n      <td>0</td>\n      <td>[Pokémon, Go, player, stabbed, ,, keeps, playing]</td>\n      <td>[Pokémon, Go, player, stabbed, keeps, playing]</td>\n    </tr>\n    <tr>\n      <th>8</th>\n      <td>Job Placement Service Helps Students Who Fail Out Of Dad’s Alma Mater Find Work At Dad’s Company</td>\n      <td>1</td>\n      <td>[Job, Placement, Service, Helps, Students, Who, Fail, Out, Of, Dad, ’, s, Alma, Mater, Find, Work, At, Dad, ’, s, Company]</td>\n      <td>[Job, Placement, Service, Helps, Students, Who, Fail, Out, Of, Dad, s, Alma, Mater, Find, Work, At, Dad, s, Company]</td>\n    </tr>\n    <tr>\n      <th>9</th>\n      <td>Idiot Zoo Animal With Zero Predators Still Protective Of Young</td>\n      <td>1</td>\n      <td>[Idiot, Zoo, Animal, With, Zero, Predators, Still, Protective, Of, Young]</td>\n      <td>[Idiot, Zoo, Animal, With, Zero, Predators, Still, Protective, Of, Young]</td>\n    </tr>\n  </tbody>\n</table>\n</div>"
     },
     "execution_count": 569,
     "metadata": {},
     "output_type": "execute_result"
    }
   ],
   "source": [
    "df[\"tokens1\"] = df[\"text\"].apply(nltk.word_tokenize) #with punctuation\n",
    "tokenizer = RegexpTokenizer(r'\\w+')\n",
    "df['tokens'] = df[\"text\"].apply(tokenizer.tokenize) #without punctuation\n",
    "\n",
    "df.head(10)"
   ],
   "metadata": {
    "collapsed": false,
    "pycharm": {
     "name": "#%%\n"
    }
   }
  },
  {
   "cell_type": "markdown",
   "source": [
    "2.\tΑπό τις λέξεις αφαιρούμε τις καταλήξεις τους, κρατώντας μόνο το θέμα τους (stemming)\n"
   ],
   "metadata": {
    "collapsed": false
   }
  },
  {
   "cell_type": "code",
   "execution_count": 570,
   "outputs": [
    {
     "data": {
      "text/plain": "                                                                                                                                                  text  \\\n0  Entire Facebook Staff Laughs As Man Tightens Privacy Settings                                                                                         \n1  Muslim Woman Denied Soda Can for Fear She Could Use It as a Weapon                                                                                    \n2  Bold Move: Hulu Has Announced That They’re Gonna Go Ahead And Reboot ‘Shrill’ While It’s Still On Since You Idiots Will Watch Anything                \n3  Despondent Jeff Bezos Realizes He’ll Have To Work For 9 Seconds To Earn Back Money He Lost In Divorce                                                 \n4  For men looking for great single women, online dating offers a viable solution to the otherwise frustrating task of finding long-term love. A0rNsK5   \n5  Kim Jong-Un Wonders If Nuclear Threats Distracting Him From Real Goal Of Starving Citizenry                                                           \n6  Omaha dad finds pot brownies, eats 4 of them, says mean things to cat                                                                                 \n7  Pokémon Go player stabbed, keeps playing                                                                                                              \n8  Job Placement Service Helps Students Who Fail Out Of Dad’s Alma Mater Find Work At Dad’s Company                                                      \n9  Idiot Zoo Animal With Zero Predators Still Protective Of Young                                                                                        \n\n   label  \\\n0  1       \n1  0       \n2  1       \n3  1       \n4  1       \n5  1       \n6  0       \n7  0       \n8  1       \n9  1       \n\n                                                                                                                                                                           tokens1  \\\n0  [Entire, Facebook, Staff, Laughs, As, Man, Tightens, Privacy, Settings]                                                                                                           \n1  [Muslim, Woman, Denied, Soda, Can, for, Fear, She, Could, Use, It, as, a, Weapon]                                                                                                 \n2  [Bold, Move, :, Hulu, Has, Announced, That, They, ’, re, Gon, na, Go, Ahead, And, Reboot, ‘, Shrill, ’, While, It, ’, s, Still, On, Since, You, Idiots, Will, Watch, Anything]    \n3  [Despondent, Jeff, Bezos, Realizes, He, ’, ll, Have, To, Work, For, 9, Seconds, To, Earn, Back, Money, He, Lost, In, Divorce]                                                     \n4  [For, men, looking, for, great, single, women, ,, online, dating, offers, a, viable, solution, to, the, otherwise, frustrating, task, of, finding, long-term, love, ., A0rNsK5]   \n5  [Kim, Jong-Un, Wonders, If, Nuclear, Threats, Distracting, Him, From, Real, Goal, Of, Starving, Citizenry]                                                                        \n6  [Omaha, dad, finds, pot, brownies, ,, eats, 4, of, them, ,, says, mean, things, to, cat]                                                                                          \n7  [Pokémon, Go, player, stabbed, ,, keeps, playing]                                                                                                                                 \n8  [Job, Placement, Service, Helps, Students, Who, Fail, Out, Of, Dad, ’, s, Alma, Mater, Find, Work, At, Dad, ’, s, Company]                                                        \n9  [Idiot, Zoo, Animal, With, Zero, Predators, Still, Protective, Of, Young]                                                                                                         \n\n                                                                                                                                                                       tokens  \\\n0  [Entire, Facebook, Staff, Laughs, As, Man, Tightens, Privacy, Settings]                                                                                                      \n1  [Muslim, Woman, Denied, Soda, Can, for, Fear, She, Could, Use, It, as, a, Weapon]                                                                                            \n2  [Bold, Move, Hulu, Has, Announced, That, They, re, Gonna, Go, Ahead, And, Reboot, Shrill, While, It, s, Still, On, Since, You, Idiots, Will, Watch, Anything]                \n3  [Despondent, Jeff, Bezos, Realizes, He, ll, Have, To, Work, For, 9, Seconds, To, Earn, Back, Money, He, Lost, In, Divorce]                                                   \n4  [For, men, looking, for, great, single, women, online, dating, offers, a, viable, solution, to, the, otherwise, frustrating, task, of, finding, long, term, love, A0rNsK5]   \n5  [Kim, Jong, Un, Wonders, If, Nuclear, Threats, Distracting, Him, From, Real, Goal, Of, Starving, Citizenry]                                                                  \n6  [Omaha, dad, finds, pot, brownies, eats, 4, of, them, says, mean, things, to, cat]                                                                                           \n7  [Pokémon, Go, player, stabbed, keeps, playing]                                                                                                                               \n8  [Job, Placement, Service, Helps, Students, Who, Fail, Out, Of, Dad, s, Alma, Mater, Find, Work, At, Dad, s, Company]                                                         \n9  [Idiot, Zoo, Animal, With, Zero, Predators, Still, Protective, Of, Young]                                                                                                    \n\n                                                                                                                                                   stemmed  \n0  [entir, facebook, staff, laugh, As, man, tighten, privaci, set]                                                                                          \n1  [muslim, woman, deni, soda, can, for, fear, she, could, use, It, as, a, weapon]                                                                          \n2  [bold, move, hulu, ha, announc, that, they, re, gonna, Go, ahead, and, reboot, shrill, while, It, s, still, On, sinc, you, idiot, will, watch, anyth]    \n3  [despond, jeff, bezo, realiz, He, ll, have, To, work, for, 9, second, To, earn, back, money, He, lost, In, divorc]                                       \n4  [for, men, look, for, great, singl, women, onlin, date, offer, a, viabl, solut, to, the, otherwis, frustrat, task, of, find, long, term, love, a0rnsk5]  \n5  [kim, jong, Un, wonder, If, nuclear, threat, distract, him, from, real, goal, Of, starv, citizenri]                                                      \n6  [omaha, dad, find, pot, browni, eat, 4, of, them, say, mean, thing, to, cat]                                                                             \n7  [pokémon, Go, player, stab, keep, play]                                                                                                                  \n8  [job, placement, servic, help, student, who, fail, out, Of, dad, s, alma, mater, find, work, At, dad, s, compani]                                        \n9  [idiot, zoo, anim, with, zero, predat, still, protect, Of, young]                                                                                        ",
      "text/html": "<div>\n<style scoped>\n    .dataframe tbody tr th:only-of-type {\n        vertical-align: middle;\n    }\n\n    .dataframe tbody tr th {\n        vertical-align: top;\n    }\n\n    .dataframe thead th {\n        text-align: right;\n    }\n</style>\n<table border=\"1\" class=\"dataframe\">\n  <thead>\n    <tr style=\"text-align: right;\">\n      <th></th>\n      <th>text</th>\n      <th>label</th>\n      <th>tokens1</th>\n      <th>tokens</th>\n      <th>stemmed</th>\n    </tr>\n  </thead>\n  <tbody>\n    <tr>\n      <th>0</th>\n      <td>Entire Facebook Staff Laughs As Man Tightens Privacy Settings</td>\n      <td>1</td>\n      <td>[Entire, Facebook, Staff, Laughs, As, Man, Tightens, Privacy, Settings]</td>\n      <td>[Entire, Facebook, Staff, Laughs, As, Man, Tightens, Privacy, Settings]</td>\n      <td>[entir, facebook, staff, laugh, As, man, tighten, privaci, set]</td>\n    </tr>\n    <tr>\n      <th>1</th>\n      <td>Muslim Woman Denied Soda Can for Fear She Could Use It as a Weapon</td>\n      <td>0</td>\n      <td>[Muslim, Woman, Denied, Soda, Can, for, Fear, She, Could, Use, It, as, a, Weapon]</td>\n      <td>[Muslim, Woman, Denied, Soda, Can, for, Fear, She, Could, Use, It, as, a, Weapon]</td>\n      <td>[muslim, woman, deni, soda, can, for, fear, she, could, use, It, as, a, weapon]</td>\n    </tr>\n    <tr>\n      <th>2</th>\n      <td>Bold Move: Hulu Has Announced That They’re Gonna Go Ahead And Reboot ‘Shrill’ While It’s Still On Since You Idiots Will Watch Anything</td>\n      <td>1</td>\n      <td>[Bold, Move, :, Hulu, Has, Announced, That, They, ’, re, Gon, na, Go, Ahead, And, Reboot, ‘, Shrill, ’, While, It, ’, s, Still, On, Since, You, Idiots, Will, Watch, Anything]</td>\n      <td>[Bold, Move, Hulu, Has, Announced, That, They, re, Gonna, Go, Ahead, And, Reboot, Shrill, While, It, s, Still, On, Since, You, Idiots, Will, Watch, Anything]</td>\n      <td>[bold, move, hulu, ha, announc, that, they, re, gonna, Go, ahead, and, reboot, shrill, while, It, s, still, On, sinc, you, idiot, will, watch, anyth]</td>\n    </tr>\n    <tr>\n      <th>3</th>\n      <td>Despondent Jeff Bezos Realizes He’ll Have To Work For 9 Seconds To Earn Back Money He Lost In Divorce</td>\n      <td>1</td>\n      <td>[Despondent, Jeff, Bezos, Realizes, He, ’, ll, Have, To, Work, For, 9, Seconds, To, Earn, Back, Money, He, Lost, In, Divorce]</td>\n      <td>[Despondent, Jeff, Bezos, Realizes, He, ll, Have, To, Work, For, 9, Seconds, To, Earn, Back, Money, He, Lost, In, Divorce]</td>\n      <td>[despond, jeff, bezo, realiz, He, ll, have, To, work, for, 9, second, To, earn, back, money, He, lost, In, divorc]</td>\n    </tr>\n    <tr>\n      <th>4</th>\n      <td>For men looking for great single women, online dating offers a viable solution to the otherwise frustrating task of finding long-term love. A0rNsK5</td>\n      <td>1</td>\n      <td>[For, men, looking, for, great, single, women, ,, online, dating, offers, a, viable, solution, to, the, otherwise, frustrating, task, of, finding, long-term, love, ., A0rNsK5]</td>\n      <td>[For, men, looking, for, great, single, women, online, dating, offers, a, viable, solution, to, the, otherwise, frustrating, task, of, finding, long, term, love, A0rNsK5]</td>\n      <td>[for, men, look, for, great, singl, women, onlin, date, offer, a, viabl, solut, to, the, otherwis, frustrat, task, of, find, long, term, love, a0rnsk5]</td>\n    </tr>\n    <tr>\n      <th>5</th>\n      <td>Kim Jong-Un Wonders If Nuclear Threats Distracting Him From Real Goal Of Starving Citizenry</td>\n      <td>1</td>\n      <td>[Kim, Jong-Un, Wonders, If, Nuclear, Threats, Distracting, Him, From, Real, Goal, Of, Starving, Citizenry]</td>\n      <td>[Kim, Jong, Un, Wonders, If, Nuclear, Threats, Distracting, Him, From, Real, Goal, Of, Starving, Citizenry]</td>\n      <td>[kim, jong, Un, wonder, If, nuclear, threat, distract, him, from, real, goal, Of, starv, citizenri]</td>\n    </tr>\n    <tr>\n      <th>6</th>\n      <td>Omaha dad finds pot brownies, eats 4 of them, says mean things to cat</td>\n      <td>0</td>\n      <td>[Omaha, dad, finds, pot, brownies, ,, eats, 4, of, them, ,, says, mean, things, to, cat]</td>\n      <td>[Omaha, dad, finds, pot, brownies, eats, 4, of, them, says, mean, things, to, cat]</td>\n      <td>[omaha, dad, find, pot, browni, eat, 4, of, them, say, mean, thing, to, cat]</td>\n    </tr>\n    <tr>\n      <th>7</th>\n      <td>Pokémon Go player stabbed, keeps playing</td>\n      <td>0</td>\n      <td>[Pokémon, Go, player, stabbed, ,, keeps, playing]</td>\n      <td>[Pokémon, Go, player, stabbed, keeps, playing]</td>\n      <td>[pokémon, Go, player, stab, keep, play]</td>\n    </tr>\n    <tr>\n      <th>8</th>\n      <td>Job Placement Service Helps Students Who Fail Out Of Dad’s Alma Mater Find Work At Dad’s Company</td>\n      <td>1</td>\n      <td>[Job, Placement, Service, Helps, Students, Who, Fail, Out, Of, Dad, ’, s, Alma, Mater, Find, Work, At, Dad, ’, s, Company]</td>\n      <td>[Job, Placement, Service, Helps, Students, Who, Fail, Out, Of, Dad, s, Alma, Mater, Find, Work, At, Dad, s, Company]</td>\n      <td>[job, placement, servic, help, student, who, fail, out, Of, dad, s, alma, mater, find, work, At, dad, s, compani]</td>\n    </tr>\n    <tr>\n      <th>9</th>\n      <td>Idiot Zoo Animal With Zero Predators Still Protective Of Young</td>\n      <td>1</td>\n      <td>[Idiot, Zoo, Animal, With, Zero, Predators, Still, Protective, Of, Young]</td>\n      <td>[Idiot, Zoo, Animal, With, Zero, Predators, Still, Protective, Of, Young]</td>\n      <td>[idiot, zoo, anim, with, zero, predat, still, protect, Of, young]</td>\n    </tr>\n  </tbody>\n</table>\n</div>"
     },
     "execution_count": 570,
     "metadata": {},
     "output_type": "execute_result"
    }
   ],
   "source": [
    "stemmer = PorterStemmer()\n",
    "df['stemmed'] = df['tokens'].apply(lambda x: [stemmer.stem(y) for y in x]) # Stem every word.\n",
    "#df = df.drop(columns=['unstemmed']) # Get rid of the unstemmed column.\n",
    "df.head(10) # Print dataframe."
   ],
   "metadata": {
    "collapsed": false,
    "pycharm": {
     "name": "#%%\n"
    }
   }
  },
  {
   "cell_type": "markdown",
   "source": [
    "Αφαιρούμε από την συλλογή εκείνες τις λέξεις που είναι αρκετά κοινές και δεν προσφέρουν πληροφορία (stopwords removal)"
   ],
   "metadata": {
    "collapsed": false
   }
  },
  {
   "cell_type": "code",
   "execution_count": 571,
   "outputs": [
    {
     "data": {
      "text/plain": "                                                                                                                                                  text  \\\n0  Entire Facebook Staff Laughs As Man Tightens Privacy Settings                                                                                         \n1  Muslim Woman Denied Soda Can for Fear She Could Use It as a Weapon                                                                                    \n2  Bold Move: Hulu Has Announced That They’re Gonna Go Ahead And Reboot ‘Shrill’ While It’s Still On Since You Idiots Will Watch Anything                \n3  Despondent Jeff Bezos Realizes He’ll Have To Work For 9 Seconds To Earn Back Money He Lost In Divorce                                                 \n4  For men looking for great single women, online dating offers a viable solution to the otherwise frustrating task of finding long-term love. A0rNsK5   \n5  Kim Jong-Un Wonders If Nuclear Threats Distracting Him From Real Goal Of Starving Citizenry                                                           \n6  Omaha dad finds pot brownies, eats 4 of them, says mean things to cat                                                                                 \n7  Pokémon Go player stabbed, keeps playing                                                                                                              \n8  Job Placement Service Helps Students Who Fail Out Of Dad’s Alma Mater Find Work At Dad’s Company                                                      \n9  Idiot Zoo Animal With Zero Predators Still Protective Of Young                                                                                        \n\n   label  \\\n0  1       \n1  0       \n2  1       \n3  1       \n4  1       \n5  1       \n6  0       \n7  0       \n8  1       \n9  1       \n\n                                                                                                                                                                           tokens1  \\\n0  [Entire, Facebook, Staff, Laughs, As, Man, Tightens, Privacy, Settings]                                                                                                           \n1  [Muslim, Woman, Denied, Soda, Can, for, Fear, She, Could, Use, It, as, a, Weapon]                                                                                                 \n2  [Bold, Move, :, Hulu, Has, Announced, That, They, ’, re, Gon, na, Go, Ahead, And, Reboot, ‘, Shrill, ’, While, It, ’, s, Still, On, Since, You, Idiots, Will, Watch, Anything]    \n3  [Despondent, Jeff, Bezos, Realizes, He, ’, ll, Have, To, Work, For, 9, Seconds, To, Earn, Back, Money, He, Lost, In, Divorce]                                                     \n4  [For, men, looking, for, great, single, women, ,, online, dating, offers, a, viable, solution, to, the, otherwise, frustrating, task, of, finding, long-term, love, ., A0rNsK5]   \n5  [Kim, Jong-Un, Wonders, If, Nuclear, Threats, Distracting, Him, From, Real, Goal, Of, Starving, Citizenry]                                                                        \n6  [Omaha, dad, finds, pot, brownies, ,, eats, 4, of, them, ,, says, mean, things, to, cat]                                                                                          \n7  [Pokémon, Go, player, stabbed, ,, keeps, playing]                                                                                                                                 \n8  [Job, Placement, Service, Helps, Students, Who, Fail, Out, Of, Dad, ’, s, Alma, Mater, Find, Work, At, Dad, ’, s, Company]                                                        \n9  [Idiot, Zoo, Animal, With, Zero, Predators, Still, Protective, Of, Young]                                                                                                         \n\n                                                                                                                                                                       tokens  \\\n0  [Entire, Facebook, Staff, Laughs, As, Man, Tightens, Privacy, Settings]                                                                                                      \n1  [Muslim, Woman, Denied, Soda, Can, for, Fear, She, Could, Use, It, as, a, Weapon]                                                                                            \n2  [Bold, Move, Hulu, Has, Announced, That, They, re, Gonna, Go, Ahead, And, Reboot, Shrill, While, It, s, Still, On, Since, You, Idiots, Will, Watch, Anything]                \n3  [Despondent, Jeff, Bezos, Realizes, He, ll, Have, To, Work, For, 9, Seconds, To, Earn, Back, Money, He, Lost, In, Divorce]                                                   \n4  [For, men, looking, for, great, single, women, online, dating, offers, a, viable, solution, to, the, otherwise, frustrating, task, of, finding, long, term, love, A0rNsK5]   \n5  [Kim, Jong, Un, Wonders, If, Nuclear, Threats, Distracting, Him, From, Real, Goal, Of, Starving, Citizenry]                                                                  \n6  [Omaha, dad, finds, pot, brownies, eats, 4, of, them, says, mean, things, to, cat]                                                                                           \n7  [Pokémon, Go, player, stabbed, keeps, playing]                                                                                                                               \n8  [Job, Placement, Service, Helps, Students, Who, Fail, Out, Of, Dad, s, Alma, Mater, Find, Work, At, Dad, s, Company]                                                         \n9  [Idiot, Zoo, Animal, With, Zero, Predators, Still, Protective, Of, Young]                                                                                                    \n\n                                                                                                                                                   stemmed  \\\n0  [entir, facebook, staff, laugh, As, man, tighten, privaci, set]                                                                                           \n1  [muslim, woman, deni, soda, can, for, fear, she, could, use, It, as, a, weapon]                                                                           \n2  [bold, move, hulu, ha, announc, that, they, re, gonna, Go, ahead, and, reboot, shrill, while, It, s, still, On, sinc, you, idiot, will, watch, anyth]     \n3  [despond, jeff, bezo, realiz, He, ll, have, To, work, for, 9, second, To, earn, back, money, He, lost, In, divorc]                                        \n4  [for, men, look, for, great, singl, women, onlin, date, offer, a, viabl, solut, to, the, otherwis, frustrat, task, of, find, long, term, love, a0rnsk5]   \n5  [kim, jong, Un, wonder, If, nuclear, threat, distract, him, from, real, goal, Of, starv, citizenri]                                                       \n6  [omaha, dad, find, pot, browni, eat, 4, of, them, say, mean, thing, to, cat]                                                                              \n7  [pokémon, Go, player, stab, keep, play]                                                                                                                   \n8  [job, placement, servic, help, student, who, fail, out, Of, dad, s, alma, mater, find, work, At, dad, s, compani]                                         \n9  [idiot, zoo, anim, with, zero, predat, still, protect, Of, young]                                                                                         \n\n                                                                                                               without_stopwords  \n0  [entir, facebook, staff, laugh, man, tighten, privaci, set]                                                                    \n1  [muslim, woman, deni, soda, fear, could, use, weapon]                                                                          \n2  [bold, move, hulu, ha, announc, gonna, go, ahead, reboot, shrill, still, sinc, idiot, watch, anyth]                            \n3  [despond, jeff, bezo, realiz, work, 9, second, earn, back, money, lost, divorc]                                                \n4  [men, look, great, singl, women, onlin, date, offer, viabl, solut, otherwis, frustrat, task, find, long, term, love, a0rnsk5]  \n5  [kim, jong, un, wonder, nuclear, threat, distract, real, goal, starv, citizenri]                                               \n6  [omaha, dad, find, pot, browni, eat, 4, say, mean, thing, cat]                                                                 \n7  [pokémon, go, player, stab, keep, play]                                                                                        \n8  [job, placement, servic, help, student, fail, dad, alma, mater, find, work, dad, compani]                                      \n9  [idiot, zoo, anim, zero, predat, still, protect, young]                                                                        ",
      "text/html": "<div>\n<style scoped>\n    .dataframe tbody tr th:only-of-type {\n        vertical-align: middle;\n    }\n\n    .dataframe tbody tr th {\n        vertical-align: top;\n    }\n\n    .dataframe thead th {\n        text-align: right;\n    }\n</style>\n<table border=\"1\" class=\"dataframe\">\n  <thead>\n    <tr style=\"text-align: right;\">\n      <th></th>\n      <th>text</th>\n      <th>label</th>\n      <th>tokens1</th>\n      <th>tokens</th>\n      <th>stemmed</th>\n      <th>without_stopwords</th>\n    </tr>\n  </thead>\n  <tbody>\n    <tr>\n      <th>0</th>\n      <td>Entire Facebook Staff Laughs As Man Tightens Privacy Settings</td>\n      <td>1</td>\n      <td>[Entire, Facebook, Staff, Laughs, As, Man, Tightens, Privacy, Settings]</td>\n      <td>[Entire, Facebook, Staff, Laughs, As, Man, Tightens, Privacy, Settings]</td>\n      <td>[entir, facebook, staff, laugh, As, man, tighten, privaci, set]</td>\n      <td>[entir, facebook, staff, laugh, man, tighten, privaci, set]</td>\n    </tr>\n    <tr>\n      <th>1</th>\n      <td>Muslim Woman Denied Soda Can for Fear She Could Use It as a Weapon</td>\n      <td>0</td>\n      <td>[Muslim, Woman, Denied, Soda, Can, for, Fear, She, Could, Use, It, as, a, Weapon]</td>\n      <td>[Muslim, Woman, Denied, Soda, Can, for, Fear, She, Could, Use, It, as, a, Weapon]</td>\n      <td>[muslim, woman, deni, soda, can, for, fear, she, could, use, It, as, a, weapon]</td>\n      <td>[muslim, woman, deni, soda, fear, could, use, weapon]</td>\n    </tr>\n    <tr>\n      <th>2</th>\n      <td>Bold Move: Hulu Has Announced That They’re Gonna Go Ahead And Reboot ‘Shrill’ While It’s Still On Since You Idiots Will Watch Anything</td>\n      <td>1</td>\n      <td>[Bold, Move, :, Hulu, Has, Announced, That, They, ’, re, Gon, na, Go, Ahead, And, Reboot, ‘, Shrill, ’, While, It, ’, s, Still, On, Since, You, Idiots, Will, Watch, Anything]</td>\n      <td>[Bold, Move, Hulu, Has, Announced, That, They, re, Gonna, Go, Ahead, And, Reboot, Shrill, While, It, s, Still, On, Since, You, Idiots, Will, Watch, Anything]</td>\n      <td>[bold, move, hulu, ha, announc, that, they, re, gonna, Go, ahead, and, reboot, shrill, while, It, s, still, On, sinc, you, idiot, will, watch, anyth]</td>\n      <td>[bold, move, hulu, ha, announc, gonna, go, ahead, reboot, shrill, still, sinc, idiot, watch, anyth]</td>\n    </tr>\n    <tr>\n      <th>3</th>\n      <td>Despondent Jeff Bezos Realizes He’ll Have To Work For 9 Seconds To Earn Back Money He Lost In Divorce</td>\n      <td>1</td>\n      <td>[Despondent, Jeff, Bezos, Realizes, He, ’, ll, Have, To, Work, For, 9, Seconds, To, Earn, Back, Money, He, Lost, In, Divorce]</td>\n      <td>[Despondent, Jeff, Bezos, Realizes, He, ll, Have, To, Work, For, 9, Seconds, To, Earn, Back, Money, He, Lost, In, Divorce]</td>\n      <td>[despond, jeff, bezo, realiz, He, ll, have, To, work, for, 9, second, To, earn, back, money, He, lost, In, divorc]</td>\n      <td>[despond, jeff, bezo, realiz, work, 9, second, earn, back, money, lost, divorc]</td>\n    </tr>\n    <tr>\n      <th>4</th>\n      <td>For men looking for great single women, online dating offers a viable solution to the otherwise frustrating task of finding long-term love. A0rNsK5</td>\n      <td>1</td>\n      <td>[For, men, looking, for, great, single, women, ,, online, dating, offers, a, viable, solution, to, the, otherwise, frustrating, task, of, finding, long-term, love, ., A0rNsK5]</td>\n      <td>[For, men, looking, for, great, single, women, online, dating, offers, a, viable, solution, to, the, otherwise, frustrating, task, of, finding, long, term, love, A0rNsK5]</td>\n      <td>[for, men, look, for, great, singl, women, onlin, date, offer, a, viabl, solut, to, the, otherwis, frustrat, task, of, find, long, term, love, a0rnsk5]</td>\n      <td>[men, look, great, singl, women, onlin, date, offer, viabl, solut, otherwis, frustrat, task, find, long, term, love, a0rnsk5]</td>\n    </tr>\n    <tr>\n      <th>5</th>\n      <td>Kim Jong-Un Wonders If Nuclear Threats Distracting Him From Real Goal Of Starving Citizenry</td>\n      <td>1</td>\n      <td>[Kim, Jong-Un, Wonders, If, Nuclear, Threats, Distracting, Him, From, Real, Goal, Of, Starving, Citizenry]</td>\n      <td>[Kim, Jong, Un, Wonders, If, Nuclear, Threats, Distracting, Him, From, Real, Goal, Of, Starving, Citizenry]</td>\n      <td>[kim, jong, Un, wonder, If, nuclear, threat, distract, him, from, real, goal, Of, starv, citizenri]</td>\n      <td>[kim, jong, un, wonder, nuclear, threat, distract, real, goal, starv, citizenri]</td>\n    </tr>\n    <tr>\n      <th>6</th>\n      <td>Omaha dad finds pot brownies, eats 4 of them, says mean things to cat</td>\n      <td>0</td>\n      <td>[Omaha, dad, finds, pot, brownies, ,, eats, 4, of, them, ,, says, mean, things, to, cat]</td>\n      <td>[Omaha, dad, finds, pot, brownies, eats, 4, of, them, says, mean, things, to, cat]</td>\n      <td>[omaha, dad, find, pot, browni, eat, 4, of, them, say, mean, thing, to, cat]</td>\n      <td>[omaha, dad, find, pot, browni, eat, 4, say, mean, thing, cat]</td>\n    </tr>\n    <tr>\n      <th>7</th>\n      <td>Pokémon Go player stabbed, keeps playing</td>\n      <td>0</td>\n      <td>[Pokémon, Go, player, stabbed, ,, keeps, playing]</td>\n      <td>[Pokémon, Go, player, stabbed, keeps, playing]</td>\n      <td>[pokémon, Go, player, stab, keep, play]</td>\n      <td>[pokémon, go, player, stab, keep, play]</td>\n    </tr>\n    <tr>\n      <th>8</th>\n      <td>Job Placement Service Helps Students Who Fail Out Of Dad’s Alma Mater Find Work At Dad’s Company</td>\n      <td>1</td>\n      <td>[Job, Placement, Service, Helps, Students, Who, Fail, Out, Of, Dad, ’, s, Alma, Mater, Find, Work, At, Dad, ’, s, Company]</td>\n      <td>[Job, Placement, Service, Helps, Students, Who, Fail, Out, Of, Dad, s, Alma, Mater, Find, Work, At, Dad, s, Company]</td>\n      <td>[job, placement, servic, help, student, who, fail, out, Of, dad, s, alma, mater, find, work, At, dad, s, compani]</td>\n      <td>[job, placement, servic, help, student, fail, dad, alma, mater, find, work, dad, compani]</td>\n    </tr>\n    <tr>\n      <th>9</th>\n      <td>Idiot Zoo Animal With Zero Predators Still Protective Of Young</td>\n      <td>1</td>\n      <td>[Idiot, Zoo, Animal, With, Zero, Predators, Still, Protective, Of, Young]</td>\n      <td>[Idiot, Zoo, Animal, With, Zero, Predators, Still, Protective, Of, Young]</td>\n      <td>[idiot, zoo, anim, with, zero, predat, still, protect, Of, young]</td>\n      <td>[idiot, zoo, anim, zero, predat, still, protect, young]</td>\n    </tr>\n  </tbody>\n</table>\n</div>"
     },
     "execution_count": 571,
     "metadata": {},
     "output_type": "execute_result"
    }
   ],
   "source": [
    "#st = [item.lower() for item in df['stemmed'].split()]\n",
    "# df['stemmed'] = df['stemmed'].astype(str).str.lower().str.split()\n",
    "df['without_stopwords'] = df['stemmed'].apply(lambda x: [item.lower() for item in x if item.lower() not in stop])\n",
    "df.head(10)"
   ],
   "metadata": {
    "collapsed": false,
    "pycharm": {
     "name": "#%%\n"
    }
   }
  },
  {
   "cell_type": "markdown",
   "source": [
    "αναθέτουμε ως βάρος την τιμή tf-idf"
   ],
   "metadata": {
    "collapsed": false
   }
  },
  {
   "cell_type": "code",
   "execution_count": 572,
   "outputs": [
    {
     "name": "stdout",
     "output_type": "stream",
     "text": [
      "  (0, 13069)\t0.30924352058001103\n",
      "  (0, 11532)\t0.4038006611301081\n",
      "  (0, 14781)\t0.5072544198071636\n",
      "  (0, 9035)\t0.1691140585248853\n",
      "  (0, 8460)\t0.3920273973386792\n",
      "  (0, 13880)\t0.35262233959490963\n",
      "  (0, 5385)\t0.2832299661866386\n",
      "  (0, 5114)\t0.3117044296347044\n",
      "  (1, 15979)\t0.400093851507405\n",
      "  (1, 15567)\t0.2659197854105327\n",
      "  (1, 3628)\t0.3025678760170136\n",
      "  (1, 5504)\t0.3818448434646714\n",
      "  (1, 13610)\t0.4565533569455909\n",
      "  (1, 4200)\t0.3601554234253247\n",
      "  (1, 16216)\t0.23435496864771768\n",
      "  (1, 9853)\t0.3725367438848746\n",
      "  (2, 1159)\t0.24411062532220687\n",
      "  (2, 15940)\t0.1991716368233393\n",
      "  (2, 7368)\t0.2726168304029761\n",
      "  (2, 13344)\t0.24251698633926413\n",
      "  (2, 14015)\t0.19753548579753888\n",
      "  (2, 13273)\t0.36706688407421084\n",
      "  (2, 11982)\t0.310222064605211\n",
      "  (2, 843)\t0.2691399593013618\n",
      "  (2, 6346)\t0.17897387591761013\n",
      "  :\t:\n",
      "  (23996, 2819)\t0.27446125275141814\n",
      "  (23996, 5648)\t0.2255999313831728\n",
      "  (23996, 13942)\t0.29017605329501134\n",
      "  (23996, 4017)\t0.20579527391561858\n",
      "  (23996, 16220)\t0.22033063330798958\n",
      "  (23996, 15567)\t0.2008256852655917\n",
      "  (23997, 5578)\t0.5837477255827842\n",
      "  (23997, 8036)\t0.5837477255827842\n",
      "  (23997, 14554)\t0.5133812875429574\n",
      "  (23997, 6238)\t0.2343434218291352\n",
      "  (23998, 11877)\t0.43431708197846897\n",
      "  (23998, 4264)\t0.38943759897370117\n",
      "  (23998, 10214)\t0.333837464033189\n",
      "  (23998, 4221)\t0.31738290586453427\n",
      "  (23998, 5051)\t0.2853228210597571\n",
      "  (23998, 11175)\t0.2625482416442826\n",
      "  (23998, 6012)\t0.2740744283851064\n",
      "  (23998, 12376)\t0.25902673537482956\n",
      "  (23998, 10077)\t0.2909566123645735\n",
      "  (23998, 1106)\t0.265178400062946\n",
      "  (23999, 14340)\t0.5178848245139436\n",
      "  (23999, 14542)\t0.3654077482747803\n",
      "  (23999, 4730)\t0.4352484882964443\n",
      "  (23999, 3705)\t0.3759409622699724\n",
      "  (23999, 11266)\t0.5172036662303391\n"
     ]
    }
   ],
   "source": [
    "tf = TfidfVectorizer(lowercase='false', analyzer='word')\n",
    "st = df['without_stopwords'].apply(lambda x: ' '.join(x))\n",
    "#dl = df['without_stopwords'].values.ravel().tolist()\n",
    "#df['without_stopwords'] = [\" \".join(review) for review in df['without_stopwords'].values]\n",
    "#response = df['without_stopwords'].apply(tf.fit for x in df[\"without_stopwords\"] )\n",
    "response = tf.fit_transform(st)\n",
    "re = np.array(response)\n",
    "print(re)\n",
    "#tf.vocabulary_"
   ],
   "metadata": {
    "collapsed": false,
    "pycharm": {
     "name": "#%%\n"
    }
   }
  }
 ],
 "metadata": {
  "kernelspec": {
   "display_name": "Python 3",
   "language": "python",
   "name": "python3"
  },
  "language_info": {
   "codemirror_mode": {
    "name": "ipython",
    "version": 3
   },
   "file_extension": ".py",
   "mimetype": "text/x-python",
   "name": "python",
   "nbconvert_exporter": "python",
   "pygments_lexer": "ipython3",
   "version": "3.7.1"
  }
 },
 "nbformat": 4,
 "nbformat_minor": 1
}